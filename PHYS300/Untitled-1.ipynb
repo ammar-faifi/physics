{
 "cells": [
  {
   "cell_type": "markdown",
   "metadata": {},
   "source": [
    "# The Eigenmodes\n",
    "\n",
    "We write the equation of motion in matrix form as, , a second-order system.\n",
    "$$\n",
    "\\begin{bmatrix}\n",
    "2 \\omega_0^2 & -\\omega_0^2 & 0 & a & 0 & 0 & 0 & a & 0 & 0 & 0 \\\\\n",
    "-\\omega_0^2 & 2 \\omega_0^2 & - \\omega_0^2 & a & 0 & 0 & 0 & a & 0 & 0 & 0 \\\\\n",
    "0 & - \\omega_0^2 & 2 \\omega_0^2 & a & 0 & 0 & 0 & a & 0 & 0 & 0 \\\\\n",
    "0 & 0 & 0 & a & 2 \\omega_0^2 & - \\omega_0^2 & 0 & a & 0 & 0 &0 \\\\\n",
    "0 & 0 & 0 & a & - \\omega_0^2 & 2 \\omega_0^2 & - \\omega_0^2 & a & 0 & 0 & 0 \\\\\n",
    "0 & 0 & 0 & a & 0 & - \\omega_0^2 & 2\\omega_0^2 & a & 0 & 0 & 0 \\\\\n",
    "0 & 0 & 0 & a & 0 & 0 & 0 & a & 2 \\omega_0^2 & -\\omega_0^2 & 0 \\\\\n",
    "0 & 0 & 0 & a & 0 & 0 & 0 & a & -\\omega_0^2 & 2 \\omega_0^2 & - \\omega_0^2 \\\\\n",
    "0 & 0 & 0 & a & 0 & 0 & 0 & a & 0 & - \\omega_0^2 & 2 \\omega_0^2\n",
    "\\end{bmatrix}\n",
    "$$\n"
   ]
  }
 ],
 "metadata": {
  "interpreter": {
   "hash": "931da98da8632d7ff64df1bedceb99f3502dff8ffbd31a3f41b1be96426e13ed"
  },
  "kernelspec": {
   "display_name": "Python 3.10.0 64-bit ('env': venv)",
   "name": "python3"
  },
  "language_info": {
   "name": "python",
   "version": "3.10.0"
  },
  "orig_nbformat": 4
 },
 "nbformat": 4,
 "nbformat_minor": 2
}
