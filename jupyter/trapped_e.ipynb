{
 "metadata": {
  "language_info": {
   "codemirror_mode": {
    "name": "ipython",
    "version": 3
   },
   "file_extension": ".py",
   "mimetype": "text/x-python",
   "name": "python",
   "nbconvert_exporter": "python",
   "pygments_lexer": "ipython3",
   "version": "3.8.3-final"
  },
  "orig_nbformat": 2,
  "kernelspec": {
   "name": "python3",
   "display_name": "Python 3"
  }
 },
 "nbformat": 4,
 "nbformat_minor": 2,
 "cells": [
  {
   "cell_type": "code",
   "execution_count": 1,
   "metadata": {},
   "outputs": [],
   "source": [
    "import sympy as sp\n",
    "from astropy import units as u\n",
    "from astropy import constants as c\n",
    "from astropy.units import Quantity as Q"
   ]
  },
  {
   "cell_type": "code",
   "execution_count": 2,
   "metadata": {},
   "outputs": [
    {
     "output_type": "display_data",
     "data": {
      "text/plain": "A**2*L*(pi*n - sin(pi*n))/(4*pi*n)",
      "text/latex": "$\\displaystyle \\frac{A^{2} L \\left(\\pi n - \\sin{\\left(\\pi n \\right)}\\right)}{4 \\pi n}$"
     },
     "metadata": {}
    },
    {
     "output_type": "execute_result",
     "data": {
      "text/plain": [
       "1/2"
      ],
      "text/latex": "$\\displaystyle \\frac{1}{2}$"
     },
     "metadata": {},
     "execution_count": 2
    }
   ],
   "source": [
    "L, A, n = sp.symbols(\"L A n\", positive=True)\n",
    "func = sp.symbols(r\"\\psi\", cls=sp.Function)\n",
    "x = sp.symbols(\"x\", real=True, positive=True)\n",
    "wf1 = sp.Eq(A**2*sp.sin(n*sp.pi*x/L)**2, func(x))\n",
    "\n",
    "prob_wf1 = sp.integrate(wf1.lhs, (x, 0, L/2)).simplify()\n",
    "display(prob_wf1)\n",
    "prob_wf1.subs({n:1, L:1e-10, A:sp.sqrt(2/L)})"
   ]
  },
  {
   "cell_type": "code",
   "execution_count": 3,
   "metadata": {},
   "outputs": [
    {
     "output_type": "execute_result",
     "data": {
      "text/plain": [
       "<Quantity 619.92099217 eV>"
      ],
      "text/latex": "$619.92099 \\; \\mathrm{eV}$"
     },
     "metadata": {},
     "execution_count": 3
    }
   ],
   "source": [
    "ans = c.h * c.c / (2*u.nm)\n",
    "ans.to(\"eV\")\n"
   ]
  }
 ]
}