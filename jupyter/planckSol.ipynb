{
 "cells": [
  {
   "cell_type": "code",
   "execution_count": 33,
   "outputs": [
    {
     "data": {
      "text/plain": "2*pi*c**2*h*Integral(1/(e**(hc/(T*k*lamda))*lamda**4 - lamda**4), lamda)",
      "text/latex": "$\\displaystyle 2 \\pi c^{2} h \\int \\frac{1}{e^{\\frac{hc}{T k \\lambda}} \\lambda^{4} - \\lambda^{4}}\\, d\\lambda$"
     },
     "execution_count": 33,
     "metadata": {},
     "output_type": "execute_result"
    }
   ],
   "source": [
    "import sympy as sp\n",
    "from sympy import abc\n",
    "\n",
    "\n",
    "\n",
    "eq1 = sp.parse_expr(r\"2*pi*c**2*h/lamda**4*1/(e**(hc/(lamda*k*T))-1)\")\n",
    "sp.integrate(eq1, abc.lamda)"
   ],
   "metadata": {
    "collapsed": false,
    "pycharm": {
     "name": "#%%\n"
    }
   }
  }
 ],
 "metadata": {
  "kernelspec": {
   "display_name": "Python 3",
   "language": "python",
   "name": "python3"
  },
  "language_info": {
   "codemirror_mode": {
    "name": "ipython",
    "version": 2
   },
   "file_extension": ".py",
   "mimetype": "text/x-python",
   "name": "python",
   "nbconvert_exporter": "python",
   "pygments_lexer": "ipython2",
   "version": "2.7.6"
  }
 },
 "nbformat": 4,
 "nbformat_minor": 0
}