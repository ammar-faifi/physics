{
 "cells": [
  {
   "cell_type": "markdown",
   "metadata": {},
   "source": [
    "# Dampes RLC Circuit\n",
    "### solveing the diffirential equation\n",
    "***"
   ]
  },
  {
   "cell_type": "code",
   "execution_count": 1,
   "metadata": {},
   "outputs": [],
   "source": [
    "import sympy as sp\n",
    "import matplotlib.pyplot as plt\n",
    "from mpl_toolkits.mplot3d import Axes3D\n",
    "import numpy as np\n",
    "%matplotlib inline\n",
    "sp.init_printing()"
   ]
  },
  {
   "cell_type": "code",
   "execution_count": 2,
   "metadata": {},
   "outputs": [
    {
     "output_type": "execute_result",
     "data": {
      "text/plain": [
       "    2                              \n",
       "   d            d          q(t)    \n",
       "L⋅───(q(t)) + R⋅──(q(t)) + ──── = 0\n",
       "    2           dt          C₀     \n",
       "  dt                               "
      ],
      "image/png": "[encoded data removed]",
      "text/latex": "$\\displaystyle L \\frac{d^{2}}{d t^{2}} q{\\left(t \\right)} + R \\frac{d}{d t} q{\\left(t \\right)} + \\frac{q{\\left(t \\right)}}{C_{0}} = 0$"
     },
     "metadata": {},
     "execution_count": 2
    }
   ],
   "source": [
    "# Create symbols objects\n",
    "q= sp.symbols(\"q\", cls=sp.Function)\n",
    "L, C, R, t, w, wp , Q= sp.symbols(\"L C_0 R t \\\\omega \\\\omega' Q\", real=True)\n",
    "\n",
    "# Create Eq. object\n",
    "eq1 = sp.Eq(L * q(t).diff(t,2) + R * q(t).diff(t) + q(t)/C, 0)\n",
    "eq1\n"
   ]
  },
  {
   "cell_type": "code",
   "execution_count": 6,
   "metadata": {},
   "outputs": [
    {
     "data": {
      "image/png": "[encoded data removed]",
      "text/latex": [
       "$\\displaystyle q{\\left(t \\right)} = C_{1} e^{- t \\sqrt{- \\frac{1}{C_{0} L}}} + C_{2} e^{t \\sqrt{- \\frac{1}{C_{0} L}}}$"
      ],
      "text/plain": [
       "                  ______             ______\n",
       "                 ╱ -1               ╱ -1   \n",
       "           -t⋅  ╱  ────        t⋅  ╱  ──── \n",
       "              ╲╱   C₀⋅L          ╲╱   C₀⋅L \n",
       "q(t) = C₁⋅ℯ              + C₂⋅ℯ            "
      ]
     },
     "execution_count": 6,
     "metadata": {},
     "output_type": "execute_result"
    }
   ],
   "source": [
    "# Solving for q(t)\n",
    "eq2 = sp.dsolve(eq1, q(t)).simplify()\n",
    "# eq2 = eq2.subs({C:1, L:1, R:1})\n",
    "\n",
    "# Find the constants value\n",
    "sol = sp.solve([eq2.rhs.subs(t, 0)-Q, eq2.rhs.diff(t, substitute=0)-1])\n",
    "\n",
    "eq2"
   ]
  },
  {
   "cell_type": "code",
   "execution_count": 122,
   "metadata": {},
   "outputs": [
    {
     "data": {
      "text/plain": [
       "[<matplotlib.lines.Line2D at 0x7faa4a0034c0>]"
      ]
     },
     "execution_count": 122,
     "metadata": {},
     "output_type": "execute_result"
    },
    {
     "data": {
      "image/png": "[encoded data removed]",
      "text/plain": [
       "<Figure size 432x288 with 1 Axes>"
      ]
     },
     "metadata": {
      "needs_background": "light"
     },
     "output_type": "display_data"
    }
   ],
   "source": [
    "func = sp.lambdify(t, eq3.rhs, \"numpy\")\n",
    "xaxis = np.arange(0, 1.1, 0.000001)\n",
    "\n",
    "plt.plot(-1*xaxis, func(xaxis).imag)\n"
   ]
  },
  {
   "cell_type": "code",
   "execution_count": 2,
   "metadata": {},
   "outputs": [
    {
     "data": {
      "image/png": "[encoded data removed]",
      "text/latex": [
       "$\\displaystyle L \\frac{d^{2}}{d t^{2}} q{\\left(t \\right)} + \\frac{q{\\left(t \\right)}}{C_{0}} = 0$"
      ],
      "text/plain": [
       "    2                 \n",
       "   d          q(t)    \n",
       "L⋅───(q(t)) + ──── = 0\n",
       "    2          C₀     \n",
       "  dt                  "
      ]
     },
     "execution_count": 2,
     "metadata": {},
     "output_type": "execute_result"
    }
   ],
   "source": [
    "# Create symbols objects\n",
    "q= sp.symbols(\"q\", cls=sp.Function)\n",
    "L, C, t, w, wp, Q = sp.symbols(\"L C_0 t \\\\omega \\\\omega' Q\", real=True)\n",
    "\n",
    "# Create Eq. object\n",
    "eq1 = sp.Eq(L * q(t).diff(t,2) + q(t)/C, 0)\n",
    "eq1\n",
    "\n"
   ]
  },
  {
   "cell_type": "markdown",
   "metadata": {},
   "source": [
    "****\n",
    "## Our conditions are \n",
    "$ q(0)=C,  \\,    q'(0)=1 $"
   ]
  },
  {
   "cell_type": "code",
   "execution_count": 3,
   "metadata": {},
   "outputs": [
    {
     "data": {
      "image/png": "[encoded data removed]",
      "text/latex": [
       "$\\displaystyle q{\\left(t \\right)} = C_{1} e^{- t \\sqrt{- \\frac{1}{C_{0} L}}} + C_{2} e^{t \\sqrt{- \\frac{1}{C_{0} L}}}$"
      ],
      "text/plain": [
       "                  ______             ______\n",
       "                 ╱ -1               ╱ -1   \n",
       "           -t⋅  ╱  ────        t⋅  ╱  ──── \n",
       "              ╲╱   C₀⋅L          ╲╱   C₀⋅L \n",
       "q(t) = C₁⋅ℯ              + C₂⋅ℯ            "
      ]
     },
     "execution_count": 3,
     "metadata": {},
     "output_type": "execute_result"
    }
   ],
   "source": [
    "# Solving for q(t)\n",
    "eq2 = sp.dsolve(eq1, q(t))\n",
    "\n",
    "sol = sp.solve([eq2.rhs.subs(t,0)-Q, \n",
    "                eq2.rhs.diff(t).subs(t,0)])\n",
    "\n",
    "# eq2 = eq2.subs(sol[0]).simplify()\n",
    "\n",
    "eq2"
   ]
  },
  {
   "cell_type": "code",
   "execution_count": 8,
   "metadata": {},
   "outputs": [
    {
     "data": {
      "text/plain": [
       "[<matplotlib.lines.Line2D at 0x7ff4b59e0490>]"
      ]
     },
     "execution_count": 8,
     "metadata": {},
     "output_type": "execute_result"
    },
    {
     "data": {
      "image/png": "[encoded data removed]",
      "text/plain": [
       "<Figure size 432x288 with 1 Axes>"
      ]
     },
     "metadata": {
      "needs_background": "light"
     },
     "output_type": "display_data"
    }
   ],
   "source": [
    "eq3 = sp.lambdify(t, eq2.subs({C:1, L:1, Q:1}).rhs, \"numpy\")\n",
    "\n",
    "data = np.arange(0,float(4 * sp.pi), 0.1)\n",
    "plt.plot(data, eq3(data)) "
   ]
  }
 ],
 "metadata": {
  "kernelspec": {
   "display_name": "Python 3",
   "language": "python",
   "name": "python3"
  },
  "language_info": {
   "codemirror_mode": {
    "name": "ipython",
    "version": 3
   },
   "file_extension": ".py",
   "mimetype": "text/x-python",
   "name": "python",
   "nbconvert_exporter": "python",
   "pygments_lexer": "ipython3",
   "version": "3.8.3-final"
  }
 },
 "nbformat": 4,
 "nbformat_minor": 4
}