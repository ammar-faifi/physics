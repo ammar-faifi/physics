{
 "cells": [
  {
   "cell_type": "code",
   "execution_count": 1,
   "metadata": {},
   "outputs": [],
   "source": [
    "import numpy as np\n",
    "import sympy as sp\n",
    "import matplotlib as plt"
   ]
  },
  {
   "cell_type": "code",
   "execution_count": 2,
   "metadata": {},
   "outputs": [
    {
     "output_type": "execute_result",
     "data": {
      "text/plain": [
       "Eq(m, F/a)"
      ],
      "text/latex": "$\\displaystyle m = \\frac{F}{a}$"
     },
     "metadata": {},
     "execution_count": 2
    }
   ],
   "source": [
    "F, m, a = sp.symbols(\"F m a\")\n",
    "m = sp.solveset(m * a - F, m).args[0]\n",
    "sp.Eq(sp.Symbol(\"m\"), m)"
   ]
  },
  {
   "cell_type": "code",
   "execution_count": 3,
   "metadata": {},
   "outputs": [
    {
     "output_type": "stream",
     "name": "stdout",
     "text": [
      "1/sqrt(-\\nu**2/c**2 + 1)\n"
     ]
    },
    {
     "output_type": "execute_result",
     "data": {
      "text/plain": [
       "⎧                ____________⎫\n",
       "⎪               ╱      2     ⎪\n",
       "⎪              ╱    \\nu      ⎪\n",
       "⎨\\Delta{t}⋅   ╱   - ──── + 1 ⎬\n",
       "⎪            ╱        2      ⎪\n",
       "⎪          ╲╱        c       ⎪\n",
       "⎩                            ⎭"
      ],
      "image/png": "[encoded data removed]",
      "text/latex": "$\\displaystyle \\left\\{\\Delta{t} \\sqrt{- \\frac{\\nu^{2}}{c^{2}} + 1}\\right\\}$"
     },
     "metadata": {},
     "execution_count": 3
    }
   ],
   "source": [
    "sp.init_printing()\n",
    "T , T0 , sGamma = sp.symbols(\"\\\\Delta{t} \\\\Delta{t_0} \\\\gamma\")\n",
    "v, c = sp.symbols(\"\\\\nu c\")\n",
    "gamma = 1/sp.sqrt(1-(v/c)**2)\n",
    "print(gamma)\n",
    "\n",
    "# solving for T0\n",
    "sp.solveset(T0 * gamma -T, T0)"
   ]
  },
  {
   "cell_type": "code",
   "execution_count": 4,
   "metadata": {},
   "outputs": [
    {
     "output_type": "execute_result",
     "data": {
      "text/plain": [
       "d       \n",
       "──(f(x))\n",
       "dx      "
      ],
      "image/png": "[encoded data removed]",
      "text/latex": "$\\displaystyle \\frac{d}{d x} f{\\left(x \\right)}$"
     },
     "metadata": {},
     "execution_count": 4
    }
   ],
   "source": [
    "f, g = sp.symbols(\"f,g\", cls=sp.Function)\n",
    "x = sp.symbols(\"x\")\n",
    "\n",
    "f(x).diff(x)"
   ]
  },
  {
   "cell_type": "code",
   "execution_count": 5,
   "metadata": {},
   "outputs": [
    {
     "output_type": "display_data",
     "data": {
      "text/plain": "<IPython.core.display.HTML object>",
      "text/html": "<table>\n<tbody>\n<tr><td>Sun  </td><td>A   </td><td>B     </td></tr>\n<tr><td>Earth</td><td>6371</td><td>5973.6</td></tr>\n<tr><td>Moon </td><td>1737</td><td>73.5  </td></tr>\n<tr><td>Mars </td><td>3390</td><td>641.85</td></tr>\n</tbody>\n</table>"
     },
     "metadata": {}
    }
   ],
   "source": [
    "from IPython.display import HTML, display\n",
    "import tabulate\n",
    "table = [[\"Sun\",\"A\",\"B\"],\n",
    "         [\"Earth\",6371,5973.6],\n",
    "         [\"Moon\",1737,73.5],\n",
    "         [\"Mars\",3390,641.85]]\n",
    "display(HTML(tabulate.tabulate(table, tablefmt='html')))"
   ]
  },
  {
   "source": [
    "| Tables        | Are           | Cool  |\n",
    "| ------------- |:-------------:| -----:|\n",
    "| col 3 is      | right-aligned | $1600 |\n",
    "| col 2 is      | centered      |   $12 |\n",
    "| zebra stripes | are neat      |    $1 |"
   ],
   "cell_type": "markdown",
   "metadata": {}
  }
 ],
 "metadata": {
  "kernelspec": {
   "name": "python3",
   "display_name": "Python 3.9.0 64-bit ('env': conda)",
   "metadata": {
    "interpreter": {
     "hash": "8a4bfc8884b7add710308ca24c5be977f0c02df2242a6a17a44fa5ec15f88468"
    }
   }
  },
  "language_info": {
   "codemirror_mode": {
    "name": "ipython",
    "version": 3
   },
   "file_extension": ".py",
   "mimetype": "text/x-python",
   "name": "python",
   "nbconvert_exporter": "python",
   "pygments_lexer": "ipython3",
   "version": "3.9.0-final"
  }
 },
 "nbformat": 4,
 "nbformat_minor": 4
}