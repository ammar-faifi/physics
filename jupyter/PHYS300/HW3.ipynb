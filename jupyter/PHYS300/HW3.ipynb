{
 "cells": [
  {
   "cell_type": "markdown",
   "metadata": {},
   "source": [
    "# Homework: Lagranian Mechanics\n",
    "\n",
    "PHYS300\n",
    "made by: Alfaifi, Ammar\n",
    "201855360"
   ]
  },
  {
   "cell_type": "code",
   "execution_count": 1,
   "metadata": {},
   "outputs": [],
   "source": [
    "# import needed packages\n",
    "import numpy as np\n",
    "\n",
    "# graph settings\n",
    "import matplotlib.pyplot as plt\n",
    "from matplotlib_inline import backend_inline\n",
    "plt.rcParams['figure.figsize'] = [15, 4]\n",
    "backend_inline.set_matplotlib_formats('png', 'pdf')\n"
   ]
  },
  {
   "cell_type": "markdown",
   "metadata": {},
   "source": [
    "# Stating the funtion\n",
    "Consider Fourier Series expansion of the following function\n",
    "$$ F(t) = \\begin{cases}\n",
    "                -1, & - \\pi / \\omega \\le t \\le 0 \\\\\n",
    "                +1, &  0 \\le t \\le \\pi / \\omega\n",
    "            \\end{cases} $$\n",
    "take, $\\omega = 1 rad/s$"
   ]
  }
 ],
 "metadata": {
  "interpreter": {
   "hash": "ee3696582c29e3ce59f0aec6b8f0173868e57dc1d90866e8a982b68c83f5b135"
  },
  "kernelspec": {
   "display_name": "Python 3.10.0 64-bit ('.env': venv)",
   "name": "python3"
  },
  "language_info": {
   "codemirror_mode": {
    "name": "ipython",
    "version": 3
   },
   "file_extension": ".py",
   "mimetype": "text/x-python",
   "name": "python",
   "nbconvert_exporter": "python",
   "pygments_lexer": "ipython3",
   "version": "3.10.0"
  },
  "orig_nbformat": 4
 },
 "nbformat": 4,
 "nbformat_minor": 2
}
