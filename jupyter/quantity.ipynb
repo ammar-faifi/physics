{
 "cells": [
  {
   "cell_type": "code",
   "execution_count": 9,
   "metadata": {},
   "outputs": [
    {
     "name": "stderr",
     "output_type": "stream",
     "text": [
      "UsageError: Line magic function `%` not found.\n"
     ]
    }
   ],
   "source": [
    "import scipy as sp\n",
    "import quantities as q\n",
    "from quantities.constants import *\n",
    "from quantities import Quantity\n",
    "import numpy as np\n",
    "from IPython.display import display_latex, display, display_html, display_png\n",
    "from quantities import markup\n",
    "markup.config.use_unicode = True # or False\n"
   ]
  },
  {
   "cell_type": "code",
   "execution_count": 14,
   "metadata": {},
   "outputs": [
    {
     "name": "stdout",
     "output_type": "stream",
     "text": [
      "$\\mathrm{eV}$\n"
     ]
    }
   ],
   "source": [
    "n=1\n",
    "En = - m_e * e**4 / (8* (epsilon_0 * h)**2)*1/n**2\n",
    "\n",
    "En = En.simplified.rescale(\"eV\")\n",
    "\n",
    "q.markup.forma En.dimensionality"
   ]
  },
  {
   "cell_type": "code",
   "execution_count": null,
   "metadata": {},
   "outputs": [],
   "source": []
  }
 ],
 "metadata": {
  "kernelspec": {
   "display_name": "Python 3",
   "language": "python",
   "name": "python3"
  },
  "language_info": {
   "codemirror_mode": {
    "name": "ipython",
    "version": 3
   },
   "file_extension": ".py",
   "mimetype": "text/x-python",
   "name": "python",
   "nbconvert_exporter": "python",
   "pygments_lexer": "ipython3",
   "version": "3.8.3"
  }
 },
 "nbformat": 4,
 "nbformat_minor": 2
}
