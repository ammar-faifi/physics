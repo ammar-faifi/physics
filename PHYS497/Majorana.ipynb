{
 "cells": [
  {
   "cell_type": "code",
   "execution_count": 60,
   "id": "db7c593e",
   "metadata": {},
   "outputs": [],
   "source": [
    "import numpy as np\n",
    "import sympy as sm"
   ]
  },
  {
   "cell_type": "code",
   "execution_count": 1,
   "id": "a4611636",
   "metadata": {},
   "outputs": [],
   "source": [
    "def jordan_wigner_majorana(N):\n",
    "    \"\"\"\n",
    "    Jordan-Wigner transformation for Majorana fermions.\n",
    "\n",
    "    Parameters:\n",
    "    - N: int, number of fermions\n",
    "\n",
    "    Returns:\n",
    "    - G_matrix: 2N x 2N matrix representing the Jordan-Wigner transformation\n",
    "    \"\"\"\n",
    "\n",
    "    # Initialize the Pauli matrices\n",
    "    sigma_x = np.array([[0, 1], [1, 0]])\n",
    "    sigma_y = np.array([[0, -1j], [1j, 0]])\n",
    "    sigma_z = np.array([[1, 0], [0, -1]])\n",
    "\n",
    "    # Identity matrix\n",
    "    I = np.eye(2)\n",
    "\n",
    "    # Initialize the Jordan-Wigner matrix\n",
    "    G_matrix = np.zeros((2*N, 2*N), dtype=complex)\n",
    "\n",
    "    for i in range(N):\n",
    "        # Construct the ith Majorana operator\n",
    "        operator_i = np.kron(np.eye(2**i), np.kron(sigma_z, I))\n",
    "        \n",
    "        # Construct the product term for the Jordan-Wigner matrix\n",
    "        product_term = np.eye(1)\n",
    "        for j in range(N):\n",
    "            if j < i:\n",
    "                product_term = np.kron(product_term, sigma_z)\n",
    "            elif j > i:\n",
    "                product_term = np.kron(product_term, sigma_x - 1j * sigma_y)\n",
    "\n",
    "        # Update the Jordan-Wigner matrix\n",
    "        G_matrix += operator_i @ product_term\n",
    "\n",
    "    return G_matrix\n"
   ]
  },
  {
   "cell_type": "code",
   "execution_count": 35,
   "id": "b6b19c74",
   "metadata": {},
   "outputs": [],
   "source": [
    "import numpy as np\n",
    "from qutip import qeye, sigmax, sigmay, sigmaz, tensor, create, destroy\n",
    "\n",
    "def Is(i, levels=2): return [qeye(levels) for j in range(0, i)]\n",
    "\n",
    "def Sx(N, i): return tensor(Is(i) + [sigmax()] + Is(N - i - 1))\n",
    "def Sy(N, i): return tensor(Is(i) + [sigmay()] + Is(N - i - 1))\n",
    "def Sz(N, i): return tensor(Is(i) + [sigmaz()] + Is(N - i - 1))\n",
    "\n",
    "def I(N): return Sz(N, 0)*Sz(N, 0)\n",
    "\n",
    "def b_(N, Np, i): return tensor(Is(i, levels=Np+1) + [destroy(Np+1)] + Is(N - i - 1, levels=Np+1))\n",
    "def bd(N, Np, i): return tensor(Is(i, levels=Np+1) + [create(Np+1)] + Is(N - i - 1, levels=Np+1))\n",
    "\n",
    "def osum(lst): return np.sum(np.array(lst, dtype=object))\n",
    "\n",
    "def oprd(lst, d=None):\n",
    "    if len(lst) == 0:\n",
    "        return d\n",
    "    p = lst[0]\n",
    "    for U in lst[1:]:\n",
    "        p = p*U\n",
    "    return p\n",
    "\n",
    "# N is the exponent, L is the length of the chain\n",
    "def opow(L, op, N): return oprd([op for i in range(N)])\n",
    "\n",
    "\n",
    "def commutator(A, B):\n",
    "    return A*B - B*A\n",
    "\n",
    "\n",
    "def anticommutator(A, B):\n",
    "    return A*B + B*A\n",
    "\n",
    "\n",
    "def a_(N, n, Opers=None):\n",
    "    Sa, Sb, Sc = Sz, Sx, Sy\n",
    "    if Opers is not None:\n",
    "        Sa, Sb, Sc = Opers\n",
    "    return oprd([Sa(N, j) for j in range(n)], d=I(N))*(Sb(N, n) + 1j*Sc(N, n))/2.\n",
    "\n",
    "\n",
    "def ad(N, n, Opers=None):\n",
    "    Sa, Sb, Sc = Sz, Sx, Sy\n",
    "    if Opers is not None:\n",
    "        Sa, Sb, Sc = Opers\n",
    "    return oprd([Sa(N, j) for j in range(n)], d=I(N))*(Sb(N, n) - 1j*Sc(N, n))/2."
   ]
  },
  {
   "cell_type": "code",
   "execution_count": 50,
   "id": "f3736d38",
   "metadata": {},
   "outputs": [
    {
     "data": {
      "text/latex": [
       "Quantum object: dims = [[2, 2], [2, 2]], shape = (4, 4), type = oper, isherm = True $ \\\\ \\left(\\begin{matrix}0.0 & 0.0 & 0.0 & 0.0\\\\0.0 & 0.0 & 0.0 & 0.0\\\\0.0 & 0.0 & 0.0 & 0.0\\\\0.0 & 0.0 & 0.0 & 0.0\\\\\\end{matrix}\\right)$"
      ],
      "text/plain": [
       "Quantum object: dims = [[2, 2], [2, 2]], shape = (4, 4), type = oper, isherm = True\n",
       "Qobj data =\n",
       "[[0. 0. 0. 0.]\n",
       " [0. 0. 0. 0.]\n",
       " [0. 0. 0. 0.]\n",
       " [0. 0. 0. 0.]]"
      ]
     },
     "execution_count": 50,
     "metadata": {},
     "output_type": "execute_result"
    }
   ],
   "source": [
    "commutator(a_(2, 0), a_(2, 0))"
   ]
  },
  {
   "cell_type": "code",
   "execution_count": 51,
   "id": "55235738",
   "metadata": {},
   "outputs": [],
   "source": [
    "def testFermions(N, jw):\n",
    "    (Sa, _), (Sb, _), (Sc, _) = jw\n",
    "    Opers = Sa, Sb, Sc\n",
    "    zero = 0.*I(N)\n",
    "    # test all the pairs\n",
    "    for n in range(N):\n",
    "        a_n = a_(N, n, Opers=Opers)\n",
    "        adn = ad(N, n, Opers=Opers)\n",
    "        for np in range(N):\n",
    "            a_np = a_(N, np, Opers=Opers)\n",
    "            adnp = ad(N, np, Opers=Opers)\n",
    "            assert anticommutator(a_n, a_np) == zero\n",
    "            if n == np:\n",
    "                assert anticommutator(a_n, adnp) == I(N)\n",
    "            else:\n",
    "                assert anticommutator(a_n, adnp) == zero\n",
    "        assert a_n*a_n == zero\n",
    "        assert adn*adn == zero"
   ]
  },
  {
   "cell_type": "markdown",
   "id": "db99feaa",
   "metadata": {},
   "source": [
    "## measurement-only braiding, symbolisim"
   ]
  },
  {
   "cell_type": "code",
   "execution_count": 106,
   "id": "a064dad2",
   "metadata": {},
   "outputs": [],
   "source": [
    "N = 6\n",
    "S_num = 8\n",
    "S = [sm.symbols(f\"S_{i}\") for i in range(1,S_num+1)]\n",
    "gamma = [sm.symbols(f'\\gamma_{i}') for i in range(1, N+1)]\n",
    "M = sm.symbols('M')\n",
    "\n",
    "def prj_meas(i, j, s):\n",
    "    return (1 + 1j * S[s-1] * gamma[i-1] * gamma[j-1])"
   ]
  },
  {
   "cell_type": "code",
   "execution_count": 107,
   "id": "1021fd99",
   "metadata": {},
   "outputs": [
    {
     "data": {
      "text/latex": [
       "$\\displaystyle M = \\left(1.0 i S_{1} \\gamma_{2} \\gamma_{3} + 1\\right) \\left(1.0 i S_{2} \\gamma_{4} \\gamma_{5} + 1\\right) \\left(1.0 i S_{3} \\gamma_{1} \\gamma_{2} + 1\\right) \\left(1.0 i S_{4} \\gamma_{3} \\gamma_{4} + 1\\right) \\left(1.0 i S_{5} \\gamma_{2} \\gamma_{4} + 1\\right) \\left(1.0 i S_{6} \\gamma_{3} \\gamma_{6} + 1\\right) \\left(1.0 i S_{7} \\gamma_{2} \\gamma_{3} + 1\\right) \\left(1.0 i S_{8} \\gamma_{2} \\gamma_{5} + 1\\right)$"
      ],
      "text/plain": [
       "Eq(M, (1.0*I*S_1*\\gamma_2*\\gamma_3 + 1)*(1.0*I*S_2*\\gamma_4*\\gamma_5 + 1)*(1.0*I*S_3*\\gamma_1*\\gamma_2 + 1)*(1.0*I*S_4*\\gamma_3*\\gamma_4 + 1)*(1.0*I*S_5*\\gamma_2*\\gamma_4 + 1)*(1.0*I*S_6*\\gamma_3*\\gamma_6 + 1)*(1.0*I*S_7*\\gamma_2*\\gamma_3 + 1)*(1.0*I*S_8*\\gamma_2*\\gamma_5 + 1))"
      ]
     },
     "execution_count": 107,
     "metadata": {},
     "output_type": "execute_result"
    }
   ],
   "source": [
    "sm.Eq(M, prj_meas(2, 3, 1) * prj_meas(4, 5, 2)\n",
    "     * prj_meas(1, 2, 3) * prj_meas(3, 4, 4)\n",
    "     * prj_meas(2, 4, 5) * prj_meas(3, 6, 6)\n",
    "     * prj_meas(2, 3, 7) * prj_meas(2, 5, 8))"
   ]
  },
  {
   "cell_type": "code",
   "execution_count": null,
   "id": "a9b48afe",
   "metadata": {},
   "outputs": [],
   "source": [
    "\n",
    "\n",
    "\n",
    "\n",
    "\n",
    "\n",
    "\n"
   ]
  }
 ],
 "metadata": {
  "kernelspec": {
   "display_name": "Python 3 (ipykernel)",
   "language": "python",
   "name": "python3"
  },
  "language_info": {
   "codemirror_mode": {
    "name": "ipython",
    "version": 3
   },
   "file_extension": ".py",
   "mimetype": "text/x-python",
   "name": "python",
   "nbconvert_exporter": "python",
   "pygments_lexer": "ipython3",
   "version": "3.11.1"
  }
 },
 "nbformat": 4,
 "nbformat_minor": 5
}
