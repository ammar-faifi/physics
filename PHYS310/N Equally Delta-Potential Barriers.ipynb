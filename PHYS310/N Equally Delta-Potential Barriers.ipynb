{
 "cells": [
  {
   "cell_type": "markdown",
   "metadata": {},
   "source": [
    "# Stating The Problem"
   ]
  },
  {
   "cell_type": "markdown",
   "metadata": {},
   "source": [
    "Consider the one dimensional scattering of a particle of mass $m$ through a series of $N$ equally spaced $\\delta$-potential barriers. All are defined by\n",
    "\n",
    "$$\n",
    "    V(x) = \\sum_{n=0}^N V_0 \\, \\delta(x-x_n) \\qquad \\text{where} \\quad x_n=na\n",
    "$$\n",
    "where $V_0>0$ is the potential strength, and $a$ is the spacing between successive barriers.\n",
    "For this case the TISE given as \n",
    "\n",
    "$$\n",
    "    \\frac{d^2}{dx^2} \\, \\psi = - \\frac{2m}{\\hbar^2} (E-V) \\, \\psi\n",
    "$$\n",
    "In this setup we have only the *scattering state*, since $E>0$."
   ]
  },
  {
   "cell_type": "markdown",
   "metadata": {},
   "source": [
    "# Solve Single barrier\n",
    "\n",
    "We start with simplest case, with a sigle $\\delta$-potential barrier at a general index $n$;  $x_n=na$. The next barrier will be at $x_{n+1}$, and the previous one at $x_{n-1}$."
   ]
  },
  {
   "cell_type": "markdown",
   "metadata": {},
   "source": [
    "For the left region of the $n$th barrier, $x_{n-1} < x < x_n$ and $V(x)=0$, the TISE becomes \n",
    "\n",
    "$$\n",
    "    \\frac{d^2}{dx^2} \\, \\psi = - \\frac{2m}{\\hbar^2}E \\, \\psi \\quad \\Rightarrow \\quad\n",
    "    \\frac{d^2}{dx^2} \\, \\psi = - k^2 \\, \\psi \\quad \\text{where} \\quad \n",
    "        k \\equiv \\frac{\\sqrt{2mE}}{\\hbar}\n",
    "$$\n",
    "The general solution to this DE is\n",
    "$$\n",
    "    \\psi_n(x) = A_n e^{ikx} + B_n e^{-ikx}\n",
    "$$\n",
    "\n",
    "The same for the right region of the $n$th barrier, $x_{n} < x < x_{n+1}$, the general solution is \n",
    "$$\n",
    "    \\psi_{n+a}(x) = A_{n+1} e^{ikx} + B_{n+1} e^{-ikx}\n",
    "$$"
   ]
  },
  {
   "cell_type": "markdown",
   "metadata": {},
   "source": [
    "In summary, for both regions, the general solution is \n",
    "$$\n",
    "\\psi(x) = \\begin{cases}\n",
    "    A_n e^{ikx} + B_n e^{-ikx}  \\qquad  &x_{n-1} < x < x_n \\\\\n",
    "    A_{n+1} e^{ikx} + B_{n+1} e^{-ikx} \\qquad  &x_{n} < x < x_{n+1}\n",
    "\\end{cases}\n",
    "$$"
   ]
  },
  {
   "cell_type": "markdown",
   "metadata": {},
   "source": [
    "# Apply Boundary Conditions\n",
    "## The Continuity at The Barrier\n",
    "We require that $\\psi(x_n^-)=\\psi(x_n^+)$, so\n",
    "$$\n",
    "    A_{n+1} e^{ikx_n} + B_{n+1} e^{-ikx_n} = A_n e^{ikx_n} + B_n e^{-ikx_n}\n",
    "$$\n",
    "Factor out $e^{-ikx_n}$, \n",
    "$$\n",
    "    A_{n+1} e^{2ikx_n} + B_{n+1} = A_n e^{2ikx_n} + B_n\n",
    "$$"
   ]
  },
  {
   "cell_type": "markdown",
   "metadata": {},
   "source": [
    "## The Discontinuity of Derivatives\n",
    "\n",
    "First we calculate the derivatives,\n",
    "$$\n",
    "    \\frac{d\\psi}{dx} = \n",
    "        \\begin{cases}\n",
    "            ik A_n e^{ikx} - ik B_n e^{-ikx}  \\qquad  &x_{n-1} < x < x_n \\\\\n",
    "            ik A_{n+1} e^{ikx} - ik B_{n+1} e^{-ikx} \\qquad  &x_{n} < x < x_{n+1}\n",
    "        \\end{cases}\n",
    "$$\n",
    "\n",
    "To find the discontinuity we integrate the TISE around $x_n$, and taking the limit\n",
    "$$\n",
    "    \\lim_{\\epsilon \\to 0} \\int_{x_n - \\epsilon}^{x_n + \\epsilon} \\frac{d^2 \\psi}{dx^2} dx\n",
    "        = - \\frac{2m}{\\hbar^2}  \\lim_{\\epsilon \\to 0} \\int_{x_n - \\epsilon}^{x_n + \\epsilon} (E-V) \\psi \\, dx\n",
    "$$\n",
    "\n",
    "We require that \n",
    "$$ \\left. \\frac{d\\psi}{dx} \\right|_{x_n^+} - \\left. \\frac{d\\psi}{dx} \\right|_{x_n^-} \n",
    "        =  \\frac{2mV_0}{\\hbar^2} \\psi(x_n) $$\n",
    "\n",
    "$$\n",
    "    ik (A_{n+1}  e^{ikx_n} - B_{n+1} e^{-ikx_n}) - ik(A_n e^{ikx_n} - B_n e^{-ikx_n})\n",
    "        =  \\frac{2mV_0}{\\hbar^2} \\psi(x_n)\n",
    "$$\n",
    "Substituting $\\psi(x_n)$\n",
    "$$\n",
    "    ik (A_{n+1}  e^{ikx_n} - B_{n+1} e^{-ikx_n}) - ik(A_n e^{ikx_n} - B_n e^{-ikx_n})\n",
    "        =  \\frac{2mV_0}{\\hbar^2}(A_n e^{ikx_n} + B_n e^{-ikx_n})\n",
    "$$"
   ]
  },
  {
   "cell_type": "markdown",
   "metadata": {},
   "source": [
    "Divide through $ik e^{-ikx_n}$\n",
    "$$\n",
    "    A_{n+1}  e^{2ikx_n} - B_{n+1} - (A_n e^{2ikx_n} - B_n)\n",
    "        = -i \\frac{2mV_0}{\\hbar^2 k}(A_n e^{2ikx_n} + B_n)\n",
    "$$\n",
    "\n",
    "In summary, from the boundary conditions we got\n",
    "$$\n",
    "    \\begin{cases}\n",
    "        A_{n+1} e^{2ikx_n} + B_{n+1} = A_n e^{2ikx_n} + B_n  \\\\\n",
    "        A_{n+1}  e^{2ikx_n} - B_{n+1} = A_n e^{2ikx_n} - B_n -  i \\frac{2mV_0}{\\hbar^2 k}(A_n e^{2ikx_n} + B_n)\n",
    "    \\end{cases}\n",
    "$$"
   ]
  },
  {
   "cell_type": "markdown",
   "metadata": {},
   "source": [
    "Adding those two equations\n",
    "$$\n",
    "    2A_{n+1}  e^{2ikx_n} = 2A_n e^{2ikx_n} - i \\frac{2mV_0}{\\hbar^2 k}(A_n e^{2ikx_n} + B_n)\n",
    "$$\n",
    "\n",
    "Isolate $A_{n+1}$\n",
    "$$\n",
    "    A_{n+1} = A_n - i \\frac{mV_0}{\\hbar^2 k}(A_n + B_n e^{-2ikx_n})\n",
    "$$\n",
    "\n",
    "Writing in terms of $A_n$ and $B_n$\n",
    "$$\n",
    "    A_{n+1} = \\left( 1 - i \\frac{mV_0}{\\hbar^2 k} \\right) A_n - \\left( i \\frac{mV_0}{\\hbar^2 k} e^{-2ikx_n} \\right) B_n\n",
    "$$"
   ]
  },
  {
   "cell_type": "markdown",
   "metadata": {},
   "source": [
    "Now we substract those two equations (2nd from 1st), to wit\n",
    "$$\n",
    "    2 B_{n+1} = 2 B_n + i \\frac{2mV_0}{\\hbar^2 k}(A_n e^{2ikx_n} + B_n)\n",
    "$$\n",
    "\n",
    "Isolate $B_{n+1}$\n",
    "$$\n",
    "    B_{n+1} = B_n  + i \\frac{mV_0}{\\hbar^2 k}(A_n e^{2ikx_n} + B_n)\n",
    "$$\n",
    "\n",
    "Writing in terms of $A_n$ and $B_n$\n",
    "$$\n",
    "    B_{n+1} = \\left( i \\frac{mV_0}{\\hbar^2 k} e^{2ikx_n} \\right) A_n + \\left( 1 + i \\frac{mV_0}{\\hbar^2 k} \\right)B_n\n",
    "$$"
   ]
  },
  {
   "cell_type": "markdown",
   "metadata": {},
   "source": [
    "Thus we have two equationd for $B_{n+1}$ and $B_{n+1}$ in terms of $A_n$ and $B_n$\n",
    "$$\n",
    "    \\begin{cases}\n",
    "        A_{n+1} = \\left( 1 - i \\beta \\right)  & A_n - \\left( i\\beta e^{-2ikx_n} \\right)  B_n \\\\\n",
    "        B_{n+1} = \\left( i \\beta e^{2ikx_n} \\right)  & A_n + \\left( 1 + i \\beta \\right) B_n\n",
    "    \\end{cases} \\qquad \\beta \\equiv \\frac{mV_0}{\\hbar^2 k}\n",
    "$$\n",
    "\n",
    "Or in matrix form\n",
    "$$\n",
    "    \\begin{bmatrix}\n",
    "        A_{n+1}  \\\\\n",
    "        B_{n+1}\n",
    "    \\end{bmatrix} = M_n\n",
    "    \\begin{bmatrix}\n",
    "        A_n  \\\\\n",
    "        B_n\n",
    "    \\end{bmatrix}  \\qquad M_n = \n",
    "    \\begin{bmatrix}\n",
    "        1 - i \\beta & - i\\beta e^{2ikx_n} \\\\\n",
    "        i \\beta e^{2ikx_n} & 1 + i \\beta\n",
    "    \\end{bmatrix} \n",
    "$$"
   ]
  },
  {
   "cell_type": "markdown",
   "metadata": {},
   "source": [
    "# As a Black Box\n",
    "The setup of the experiment is that there is an incident wave on the leftmost barrier, and we want to find the final resultant wave after transimtting through the rightmost barrier. Thus, the problem is to find the transmitted-wave amplitudes, $n=N+1$, in terms of the incident-wave amplitudes, $n=0$. For the transformation matrix we can take the product of all ${M_n}$ elements. Hence, we have\n",
    "$$\n",
    "    \\begin{bmatrix}\n",
    "        A_{N+1}  \\\\\n",
    "        B_{N+1}\n",
    "    \\end{bmatrix} = M\n",
    "    \\begin{bmatrix}\n",
    "        A_0  \\\\\n",
    "        B_0\n",
    "    \\end{bmatrix} \\qquad M = \\prod_{n=0}^N M_n \\qquad |M|=1\n",
    "$$\n",
    "\n",
    "For this physically setup, there should be not traveling wave to the left at the rightmost barrier, since it will travell to infinity. Thus, we set $B_{N+1} = 0$."
   ]
  },
  {
   "cell_type": "markdown",
   "metadata": {},
   "source": [
    "# Transmission Coefficient\n",
    "The relative pobability of the incident wave to the transitted wave is called the *transmission coefficient*. It is defined as\n",
    "$$\n",
    "    T = \\left| \\frac{A_{N+1}}{A_0} \\right|^2 \n",
    "    = \\left| \\frac{M_{11} A_0 + M_{12} B_0}{A_0} \\right|^2 \n",
    "    = \\left| \\frac{\\det(M)}{M_{22}} \\right|^2 \n",
    "    = \\frac{1}{|M_{22}|^2} \n",
    "$$"
   ]
  },
  {
   "cell_type": "markdown",
   "metadata": {},
   "source": [
    "# Compute $T(\\theta)$\n",
    "We want now to compute numerically the $T(\\theta)$ as a fumction of the angle $\\theta=ka$, fot different values of $n$."
   ]
  },
  {
   "cell_type": "code",
   "execution_count": 3,
   "metadata": {},
   "outputs": [],
   "source": [
    "import numpy as np\n",
    "import scipy as sp"
   ]
  },
  {
   "cell_type": "code",
   "execution_count": 1,
   "metadata": {},
   "outputs": [
    {
     "name": "stdout",
     "output_type": "stream",
     "text": [
      "--Return--\n",
      "None\n",
      "> \u001b[0;32m/var/folders/yx/2byr_xhj00ldw_7gxt43m5kc0000gn/T/ipykernel_11796/2396284888.py\u001b[0m(1)\u001b[0;36m<module>\u001b[0;34m()\u001b[0m\n",
      "\u001b[0;32m----> 1 \u001b[0;31m\u001b[0;32mimport\u001b[0m \u001b[0mpdb\u001b[0m\u001b[0;34m;\u001b[0m \u001b[0mpdb\u001b[0m\u001b[0;34m.\u001b[0m\u001b[0mset_trace\u001b[0m\u001b[0;34m(\u001b[0m\u001b[0;34m''\u001b[0m\u001b[0;34m)\u001b[0m\u001b[0;34m\u001b[0m\u001b[0;34m\u001b[0m\u001b[0m\n",
      "\u001b[0m\u001b[0;32m      2 \u001b[0;31m\u001b[0mM\u001b[0m \u001b[0;34m=\u001b[0m \u001b[0;34m[\u001b[0m\u001b[0;34m]\u001b[0m\u001b[0;34m\u001b[0m\u001b[0;34m\u001b[0m\u001b[0m\n",
      "\u001b[0m\u001b[0;32m      3 \u001b[0;31m\u001b[0;31m# M_22 = M[1][1] **2\u001b[0m\u001b[0;34m\u001b[0m\u001b[0;34m\u001b[0m\u001b[0m\n",
      "\u001b[0m\n",
      "--KeyboardInterrupt--\n",
      "\n",
      "KeyboardInterrupt: Interrupted by user\n"
     ]
    }
   ],
   "source": [
    "M = []\n",
    "# M_22 = M[1][1] **2"
   ]
  }
 ],
 "metadata": {
  "interpreter": {
   "hash": "d406cef10b93614f6f7c8ae9b6e3dccb99354bed28d1403dfb24bf4f95cf7f92"
  },
  "kernelspec": {
   "display_name": "Python 3.10.2 ('env': venv)",
   "language": "python",
   "name": "python3"
  },
  "language_info": {
   "codemirror_mode": {
    "name": "ipython",
    "version": 3
   },
   "file_extension": ".py",
   "mimetype": "text/x-python",
   "name": "python",
   "nbconvert_exporter": "python",
   "pygments_lexer": "ipython3",
   "version": "3.10.2"
  },
  "orig_nbformat": 4
 },
 "nbformat": 4,
 "nbformat_minor": 2
}
