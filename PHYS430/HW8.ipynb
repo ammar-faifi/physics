{
 "cells": [
  {
   "attachments": {},
   "cell_type": "markdown",
   "id": "8416ee97",
   "metadata": {},
   "source": [
    "# Thermal Physics - Homework 8\n",
    "> Alfaifi, Ammar - 201855360"
   ]
  },
  {
   "attachments": {},
   "cell_type": "markdown",
   "id": "65d07945",
   "metadata": {},
   "source": [
    "## Question 1\n",
    "### (a)\n",
    "The enthalpy at the start is 8174 J. To maintain this enthalpy, the temperature needs to decrease to a value between 200 K (where $H=5800$ J) and 300 K (where $H=8717$ J). Using linear interpolation between these two values, it was determined that each degree increase in temperature raises the enthalpy by 29.2 J. Since the enthalpy at 300 K is greater than our enthalpy by 543 J, the temperature needs to decrease by 19 K \n",
    "($543/29.2$). As a result, the final temperature is 281 K."
   ]
  },
  {
   "attachments": {},
   "cell_type": "markdown",
   "id": "51c1bad5",
   "metadata": {},
   "source": [
    "### (b)\n",
    "Once again, it is necessary for the temperature to decrease. The enthalpy alteration between 100 K and 200 K (at 1 bar) amounts to 29.4 J/K. Our starting enthalpy is 4442 J, which is lower than 5800 J (the amount at 1 bar and 200 K) by 1358 J. As a result, the temperature needs to decrease by 46 K, which is calculated by dividing 1358 by 29.4. Consequently, the concluding temperature is 154 K."
   ]
  },
  {
   "attachments": {},
   "cell_type": "markdown",
   "id": "7161aa6c",
   "metadata": {},
   "source": [
    "### (c)\n",
    "The enthalpy is -1946 J when the temperature is 100 K. This falls within the range of enthalpies for the saturated liquid and gas at a pressure of 1 bar, resulting in a combination of liquid and gas at 77 K. To determine the proportion of liquid (×), an additional interpolation is needed.\n",
    "\n",
    "$$\n",
    "- 3407x + 2161(1-x) = -1946\n",
    "$$"
   ]
  },
  {
   "attachments": {},
   "cell_type": "markdown",
   "id": "cf7d1a1e",
   "metadata": {},
   "source": [
    "### (d)\n",
    "The temperature at which a very small amount of liquefaction occurs is the maximum temperature when the enthalpy is 2161 J. When the pressure is 100 bars and the temperature is between 100 K and 200 K, the enthalpy increases by 63.9 J/K. However, since 2161 is 4107 greater than -1946, the initial temperature must be higher than 100 K by 64.3 K, which means it is 164 K."
   ]
  },
  {
   "attachments": {},
   "cell_type": "markdown",
   "id": "6c45f001",
   "metadata": {},
   "source": [
    "### (e)\n",
    "At 600 K, the enthalpy at 1 bar is slightly les than at 100 bar, so the constant-enthalpy throttling process would have to result in an *increase* in temperature."
   ]
  },
  {
   "attachments": {},
   "cell_type": "markdown",
   "id": "9e0498ac",
   "metadata": {},
   "source": [
    "## Question 2\n",
    "### (a) \n",
    "strength of one of theses dipoles at a distance of 1 nm is\n",
    "\n",
    "$$\n",
    "    B= \\frac{\\mu_0}{4 \\pi} = (10^{-7}) \\frac{9 \\times 10^{-24}}{(1^{-9})^3} T\n",
    "     = 9 \\times 10 ^{-4} \\text{T.}\n",
    "$$\n",
    "Assuming the dipole is surrounded by multiple neighboring sources that generate fields of similar magnitude, but possibly different directions, it is possible that the total strength of the field could be roughly 2 or 3 times $10^{-3}$ T."
   ]
  },
  {
   "attachments": {},
   "cell_type": "markdown",
   "id": "1d741320",
   "metadata": {},
   "source": [
    "### (b)\n",
    "Assuming the effective field strength decreases from 1 T to $2 \\times 10^{-3}$ T, which is a 500-fold reduction, equation 4.21 indicates that the temperature must also decrease by a factor of 500 to maintain constant magnetization and entropy."
   ]
  },
  {
   "attachments": {},
   "cell_type": "markdown",
   "id": "85f6a0dc",
   "metadata": {},
   "source": [
    "### (c)\n",
    "$$\n",
    "T_{\\text{step}} \\approx \\frac{(9 \\times 10^{-24} \\text{J/T})(2 \\times 10 ^{-3} \\text{T})}\n",
    "    {1.4 \\times 1- ^{-23} \\text{J/K}} \\approx 1 \\text{mK}\n",
    "$$"
   ]
  },
  {
   "attachments": {},
   "cell_type": "markdown",
   "id": "1bf37bd8",
   "metadata": {},
   "source": [
    "### (d)\n",
    "When the temperature drops below 1 mK, the graph of $S$ vs. $T$ becomes almost flat, indicating a very low heat capacity, which can be calculated as $C = Q/\\Delta{T} = T\\Delta{S}/\\Delta{T} \\approx 0$. This means that even a small amount of heat entering the system will cause a significant temperature increase. As it is impossible to prevent all heat leakage, attempting to cool the system below 1 mK is futile."
   ]
  },
  {
   "attachments": {},
   "cell_type": "markdown",
   "id": "ea81f5d1",
   "metadata": {},
   "source": [
    "## Question 3\n",
    "### (a)\n",
    "$$\n",
    "    \\Delta{H} = 2 (-285.83 \\text{kJ}) + (-393.51 \\text{kJ}) - (-74.81 \\text{kJ}) = -890.36 \\text{kJ} \\\\\n",
    "    \\Delta{H} = 2 (-237.13 \\text{kJ}) + (-394.36 \\text{kJ}) - (-50.72 \\text{kJ}) = - 817.90 \\text{kJ}\n",
    "$$"
   ]
  },
  {
   "attachments": {},
   "cell_type": "markdown",
   "id": "d17ecc80",
   "metadata": {},
   "source": [
    "### (b)\n",
    "Assuming perfect circumstances, the entire reduction in G is converted into electrical energy output, resulting in a value of 818 kJ.\n",
    "\n",
    "### (c)\n",
    "The enthalpy reduction of 890 kJ is the combination of the electrical work produced and the released heat. In an ideal scenario, the work produced is 818 kJ, therefore the heat discharged is 72 kJ.\n",
    "\n",
    "### (d)\n",
    "generated by the movement of eight electrons through the circuit for every methane molecule that undergoes a reaction"
   ]
  },
  {
   "attachments": {},
   "cell_type": "markdown",
   "id": "8504a073",
   "metadata": {},
   "source": [
    "$$\n",
    "    \\text{volt} = \\frac{\\text{Elec work done}}{\\text{total charge}} = \\frac{818 \\text{kJ}}\n",
    "        {8(6.02 \\times 10 ^{23})(1.6\\times 10^{-19})} = 1.06 \\text{V}\n",
    "$$"
   ]
  },
  {
   "attachments": {},
   "cell_type": "markdown",
   "id": "999b754e",
   "metadata": {},
   "source": [
    "## Question 5\n",
    "\n",
    "Thermal expansion coefficient is defined as the fractional change in volume per unit temperature change\n",
    "\n",
    "$$\n",
    "    \\beta = \\frac{\\Delta{V}/V}{\\Delta{V}}\n",
    "    = \\frac{1}{V} \\left( \\frac{\\partial V}{\\partial T} \\right)_P\n",
    "$$\n",
    "\n",
    "Then referring to Maxwell relation derived in the precious problem, this derivative is equal to \n",
    "$$\n",
    "    \\beta = -\\frac{1}{V} \\left( \\frac{\\partial S}{\\partial P} \\right)_T\n",
    "$$\n",
    "\n",
    "The third law of thermodynamics says that as $T \\to 0$, the entropy approaches zero, independent of \n",
    "pressure. $(\\partial S/ \\partial P)_T$ goes to zero as $T \\to 0$. Since V remains nonzero, hence\n",
    "$\\beta \\to 0$ as $T \\to 0$"
   ]
  }
 ],
 "metadata": {
  "kernelspec": {
   "display_name": "Python 3 (ipykernel)",
   "language": "python",
   "name": "python3"
  },
  "language_info": {
   "codemirror_mode": {
    "name": "ipython",
    "version": 3
   },
   "file_extension": ".py",
   "mimetype": "text/x-python",
   "name": "python",
   "nbconvert_exporter": "python",
   "pygments_lexer": "ipython3",
   "version": "3.11.1"
  }
 },
 "nbformat": 4,
 "nbformat_minor": 5
}
