{
 "cells": [
  {
   "cell_type": "markdown",
   "id": "8416ee97",
   "metadata": {},
   "source": [
    "# Thermal Physics - Homework 6\n",
    "> Alfaifi, Ammar - 201855360"
   ]
  },
  {
   "cell_type": "code",
   "execution_count": 1,
   "id": "dba4c70e",
   "metadata": {},
   "outputs": [],
   "source": [
    "import numpy as np\n",
    "import seaborn as sns\n",
    "import matplotlib.pyplot as plt\n",
    "import scipy.constants as con\n",
    "from scipy.special import comb\n",
    "from matplotlib_inline.backend_inline import set_matplotlib_formats\n",
    "\n",
    "set_matplotlib_formats('pdf')\n",
    "plt.rcParams |= {\n",
    "    'text.usetex': True,\n",
    "    'figure.figsize': (10, 4)\n",
    "}\n",
    "sns.set_theme()\n",
    "set_matplotlib_formats('svg', 'pdf')"
   ]
  },
  {
   "cell_type": "markdown",
   "id": "65d07945",
   "metadata": {},
   "source": [
    "## Question 1"
   ]
  },
  {
   "cell_type": "markdown",
   "id": "e631ea31",
   "metadata": {},
   "source": [
    "From Figure 4.5, a PV diagram for Carnot cycle, we can find the work needed for each state change. We $Q_h$ , which is the work of an isothermal procces from top point to middle point as\n",
    "$$\n",
    "    Q_h = |W_{12}| = \\int_{V_1}^{V_2} P \\, dV = NkT_h \\ln{\\frac{V_2}{V_1}}\n",
    "$$\n",
    "and for $Q_c$\n",
    "$$\n",
    "    Q_c = |W_{34}| = \\int_{V_4}^{V_3} P \\, dV = NkT_h \\ln{\\frac{V_3}{V_4}}\n",
    "$$\n",
    "And by definition of efficincy we have, since adiabatic proccesses transfer no heat,\n",
    "$$\n",
    "    e = 1 - \\frac{Q_c}{Q_h} = 1 - \\frac{T_c \\ln{(V_3/V_4)}}{T_h \\ln{(V_2/V_1)}}\n",
    "$$\n",
    "as we saw this is the Carnot efficiency, with condition that $V_3/V_4 = V_2/V_1$. To show this we start from the adiabatic formuals. We know that $\\Delta{(VT^{f/2})} = 0$ so, for adiabatic expansion from 2 to 3 we have\n",
    "$$\n",
    "    V_3 T_c^{f/2} = V_2 T_h^{f/2}\n",
    "$$\n",
    "and the from 4 to 1\n",
    "$$\n",
    "    V_4 T_c^{f/2} = V_1 T_h^{f/2}\n",
    "$$\n",
    "dividing the former on the later we get\n",
    "$$\n",
    "    V_3/V_4 = V_2/V_1\n",
    "$$\n",
    "which is the condition of Carnto cycle.\n"
   ]
  },
  {
   "cell_type": "markdown",
   "id": "7b905da6",
   "metadata": {},
   "source": [
    "## Question 2\n",
    "\n",
    "### (a)\n",
    "he initial step involves calculating the increase in entropy of the engine when heat enters it, which is expressed as $Q_h/T_{hw}$. Simultaneously, the decrease in entropy of the engine when heat flows out of it is determined as $Q_c/T_{cw}$. It is necessary to assume that there is no additional entropy generated within the engine, and under this assumption, the two quantities of entropy gained and lost must be equivalent:\n",
    "\n",
    "$$\n",
    "    \\frac{Q_h}{T_{hw}} = \\frac{Q_c}{T_{cw}}\n",
    "$$\n",
    "or \n",
    "$$\n",
    "    \\frac{Q_h}{Q_c} = \\frac{T_{hw}}{T_{cw}}\n",
    "$$\n",
    "From the given equation in the question, we can express those as\n",
    "$$\n",
    "    \\frac{T_h - T_{hw}}{T_{cw} - T_c} = \\frac{T_{hw}}{T_{cw}}\n",
    "$$"
   ]
  },
  {
   "cell_type": "markdown",
   "id": "c8678c96",
   "metadata": {},
   "source": [
    "### (b)\n",
    "\n",
    "The rate at which work is done is equal to the power output, which is measured as the amount of work completed per unit of time. The duration needed for the heat $Q_h$ to move into the system is also a factor to consider.\n",
    "\n",
    "$$\n",
    "    \\Delta{T} = \\frac{Q_h}{K(T_h - T_{hw})}\n",
    "$$\n",
    "total time for the cycle is 2 times this amount\n",
    "$$\n",
    "    \\text{Power} = \\frac{W}{2 \\Delta} = \\frac{Q_h - Q_c}{2} \n",
    "        \\frac{K(T_h - T_{hw})}{Q_h} = \\frac{K}{2}(1 - \\frac{T_{cw}}{T{hw}}) (T_h - T{hw})\n",
    "$$\n",
    "\n",
    "from part (a)\n",
    "$$\n",
    "    \\text{Power} =\\frac{K}{2} \\left(1 - \\frac{T_c}{2 T_{hw}-T_h} \\right) (T_h - T_{hw})\n",
    "$$"
   ]
  },
  {
   "cell_type": "markdown",
   "id": "c98406a7",
   "metadata": {},
   "source": [
    "### (c)\n",
    "We maximaize the equation from part (b)\n",
    "$$\n",
    "    0= \\frac{d \\text{Power}}{d T_{hw}} = \\frac{K}{2} \\left[ \n",
    "        \\frac{2T_c}{(2T_{hw} - T_h)^2} (T_h - T_{hw}) \n",
    "            -\\left(1 - \\frac{T_c}{2 T_{hw}-T_h} \\right) \n",
    "    \\right] \\\\\n",
    "$$\n",
    "We apply the quadratic formula we get\n",
    "$$\n",
    "    T_{hw} = \\frac{T_h}{2} ± \\frac{1}{2} \\sqrt{T_c T_h} = \\frac{1}{2} (T_h ± \\sqrt{T_c T_h})\n",
    "$$\n",
    "And for $T_{cw}$\n",
    "$$\n",
    "    T_{cw} = \\frac{T_C T_{hw}}{2T_{hw} - T_{h}} = \\frac{1}{1} (T_{c} + \\sqrt{T_{c}T_{h}})\n",
    "$$"
   ]
  },
  {
   "cell_type": "markdown",
   "id": "a2423a1c",
   "metadata": {},
   "source": [
    "### (d)\n",
    "\n",
    "The efficiency in the case of max power\n",
    "\n",
    "$$\n",
    "e = 1 - \\frac{Q_{c}}{Q_{h}} = 1 - \\frac{T_{cw}}{T_{hw}} =\n",
    "1 - \\sqrt{\\frac{T_{c}}{T_{h}}}\n",
    "$$\n",
    "\n",
    "For the typical substituting numbers\n",
    "$$\n",
    "     e = 1 - \\sqrt{\\frac{298 K}{873 K}} = 42 \\%\n",
    "$$\n"
   ]
  },
  {
   "cell_type": "markdown",
   "id": "e4e39208",
   "metadata": {},
   "source": [
    "## 3\n",
    "\n",
    "The heat pump is physically the same as an orinary refrigerator\n",
    "\n",
    "### (a)\n",
    "The COP should be defined as the benefit divided by the cost. In this case is $W$, so the ratio of benefit to the cost is $Q_h / W$"
   ]
  },
  {
   "cell_type": "markdown",
   "id": "86ef5cbe",
   "metadata": {},
   "source": [
    "### (b)\n",
    "The energy \"in\" is $Q_c + W$ and the energy \"out\" is $Q_h$\n",
    "$$\n",
    "Q_h = Q_c + W\n",
    "$$\n",
    "The COP is \n",
    "$$\n",
    "    \\text{COP} = \\frac{Q_h}{Q_h - Q_c} = \\frac{1}{1 - Q_c/Q_h}\n",
    "$$\n",
    "which is *always* greater than 1."
   ]
  },
  {
   "cell_type": "markdown",
   "id": "2e12953f",
   "metadata": {},
   "source": [
    "### (c)\n",
    "\n",
    "$$\n",
    "    \\frac{Q_h}{T_h} \\ge \\frac{Q_c}{T_c}\n",
    "$$\n",
    "then\n",
    "$$\n",
    "    \\frac{T_c}{T_h} \\ge \\frac{Q_c}{Q_h}\n",
    "$$\n",
    "then from part (b)\n",
    "$$\n",
    "    \\text{COP} \\le \\frac{1}{1 - T_c/T_h} = \\frac{T_h}{T_h - T_c}\n",
    "$$"
   ]
  },
  {
   "cell_type": "markdown",
   "id": "d961bbf7",
   "metadata": {},
   "source": [
    "### (d)\n",
    "An electric heater converts all of the electrical energy it uses into heat, resulting in a COP (coefficient of performance) of 1. In contrast, an ideal heat pump will always have a COP greater than 1. For example, if the input temperature is 25°C and the output temperature is 0°C, the COP can potentially reach up to 12. However, in reality, the COP is never this high, but as long as the input and output temperatures are not too different, a heat pump is much more efficient than an electric heater.\n",
    "\n",
    "However, a heat pump is a complex device with many moving parts, making it more expensive to manufacture and maintain. Fortunately, a central air conditioning system can serve as a heat pump in the winter, offering a practical and efficient solution for those who are already planning to install central air and live in areas with mild winters."
   ]
  },
  {
   "cell_type": "markdown",
   "id": "3e5f3304",
   "metadata": {},
   "source": [
    "## Question 4\n",
    "\n",
    "Imagine an engine that has a Carnot refrigrator. For the ideal Carnot refrigerator the heat input and output are in the same ration as the reservoir temperature\n",
    "$$\n",
    "    \\frac{Q_{h,r}}{Q_{cr}} = \\frac{T_h}{T_c}\n",
    "$$\n",
    "Given a certain value of $W$, the equality of $Q_h - Q_c = W$, along with energy conservation, can determine the values of $Q_r$ and $Q_{cr}$. If the engine in question were ideal, these same equalities would also apply, resulting in $Q_r = Q_u$ and $Q_{ce} = Q_{cr}$. However, if the engine were even better than ideal, it would require less heat input to generate the same amount of work, resulting in $Q_{he}$ being less than $Q_h$. As per energy conservation, the waste heat output would also be less by the same amount, meaning $Q_{ce}$ would be less than $Q_{cr}$. As a result, the engine-refrigerator combination would transfer heat (equal to $Q_u - Q_{he}$) from the cold reservoir to the hot reservoir without any work input, making it a \"perfect\" refrigerator that is too good to exist in reality. Therefore, it can be concluded that such a hypothetical engine is impossible."
   ]
  },
  {
   "cell_type": "markdown",
   "id": "3d651637",
   "metadata": {},
   "source": [
    "## Question 5\n",
    "\n",
    "Now suppose we stick a refrigrator to an ideal carnot engine.\n",
    "The values of $W$ and $O_h$ for the ideal engine can be determined by energy and entropy conservation, given a fixed $Q_c$. If the refrigerator is also ideal, its $W$ and $Q_h$ values would be the same as those of the engine due to energy and entropy conservation. However, if the refrigerator is more efficient than ideal, it would require less work input and produce less waste heat output, resulting in $W_r < W_e$ and $Q_{h,r} < Q_{h,e}$. Therefore, the combination of the engine and refrigerator would produce work ($W_e - W_r$) without any net heat flow into the cold reservoir, making it a \"perfect\" engine that converts all of its net heat input from the hot reservoir into work. However, such an engine is too good to exist, and no better-than-ideal refrigerator could exist."
   ]
  },
  {
   "cell_type": "code",
   "execution_count": null,
   "id": "b3f3cd56",
   "metadata": {},
   "outputs": [],
   "source": [
    "\n",
    "\n",
    "\n",
    "\n",
    "\n",
    "\n",
    "\n",
    "\n",
    "\n",
    "\n",
    "\n",
    "\n",
    "\n",
    "\n",
    "\n",
    "\n",
    "\n",
    "\n",
    "\n",
    "\n",
    "\n"
   ]
  }
 ],
 "metadata": {
  "kernelspec": {
   "display_name": "Python 3 (ipykernel)",
   "language": "python",
   "name": "python3"
  },
  "language_info": {
   "codemirror_mode": {
    "name": "ipython",
    "version": 3
   },
   "file_extension": ".py",
   "mimetype": "text/x-python",
   "name": "python",
   "nbconvert_exporter": "python",
   "pygments_lexer": "ipython3",
   "version": "3.11.1"
  }
 },
 "nbformat": 4,
 "nbformat_minor": 5
}
