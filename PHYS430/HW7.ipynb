{
 "cells": [
  {
   "attachments": {},
   "cell_type": "markdown",
   "id": "8416ee97",
   "metadata": {},
   "source": [
    "# Thermal Physics - Homework 7\n",
    "> Alfaifi, Ammar - 201855360"
   ]
  },
  {
   "cell_type": "code",
   "execution_count": 156,
   "id": "466f6b56",
   "metadata": {},
   "outputs": [],
   "source": [
    "import sympy as sp\n",
    "import matplotlib.pyplot as plt\n",
    "import numpy as np"
   ]
  },
  {
   "attachments": {},
   "cell_type": "markdown",
   "id": "65d07945",
   "metadata": {},
   "source": [
    "## Question 1\n",
    "### (a)"
   ]
  },
  {
   "cell_type": "code",
   "execution_count": null,
   "id": "848f7fbd",
   "metadata": {},
   "outputs": [
    {
     "data": {
      "image/png": "[encoded data removed]",
      "text/plain": [
       "<Figure size 640x480 with 1 Axes>"
      ]
     },
     "metadata": {},
     "output_type": "display_data"
    }
   ],
   "source": [
    "x = np.arange(2, 4, 0.01)\n",
    "y = 1/np.log(x)\n",
    "plt.plot(x, y)\n",
    "plt.plot([2, 2], [y[0], 0.4])\n",
    "plt.plot([4, 4], [y[-1], 0.24])\n",
    "plt.plot(x, y*0.23 + 0.07)\n",
    "plt.xlim([0.7, 5])\n",
    "plt.ylim([0, 1.7])\n",
    "plt.xticks([])\n",
    "plt.yticks([])\n",
    "plt.ylabel('Pressure')\n",
    "plt.xlabel('Volume')\n",
    "plt.show()"
   ]
  },
  {
   "attachments": {},
   "cell_type": "markdown",
   "id": "0bd944f5",
   "metadata": {},
   "source": [
    "### (b)\n",
    "The engine is comprised of two cylinders and pistons, with one cylinder connected to a hot reservoir and the other to a cold reservoir. The cylinders are connected by a regenerator, which acts as a heat sink. The process begins at point 1, where the cold piston compresses the gas isothermally to point 2. At point 2, the gas passes through the regenerator and absorbs heat at constant volume. The hot piston then moves out from point 3, doing work as the gas expands isothermally to point 4. At point 4, the gas passes back through the regenerator and expels heat at constant volume, returning to its starting pressure.\n",
    "\n",
    "The regenerator functions as an internal reservoir that can both absorb and emit heat. To analyze the engine, we will assume that the regenerator is not present, meaning that all absorbed heat comes from the hot reservoir and all expelled heat goes to the cold reservoir. Heat is absorbed along the blue and yellow curves. The equipartition theorem applies to the orange path at constant volume:\n"
   ]
  },
  {
   "attachments": {},
   "cell_type": "markdown",
   "id": "6019e537",
   "metadata": {},
   "source": [
    "$$\n",
    "    Q_{23} = \\frac{f}{2} Nk (T_3-T_2)\n",
    "$$\n",
    "it's an isothermal, for the blue path, using ideal gas law we have\n",
    "$$\n",
    "  Q_{23} = W = \\int_{V_2}^{V_1} P\\, dV  \n",
    "$$\n",
    "$$\n",
    "  Q_{23} = NkT_3 \\ln{\\frac{V_1}{V_2}}\n",
    "$$\n",
    "Then the total absorbed heat is\n",
    "$$\n",
    "  Q_h = Q_{34} + Q_{23}\n",
    "$$\n",
    "As\n",
    "\n",
    "$$\n",
    "  Q_h = NkT_3 \\ln{\\frac{V_1}{V_2}} + \\frac{f}{2} Nk (T_3-T_2)\n",
    "$$"
   ]
  },
  {
   "attachments": {},
   "cell_type": "markdown",
   "id": "c303b585",
   "metadata": {},
   "source": [
    "I do the same to find the $Q_c$. For green path,\n",
    "$$\n",
    "    Q_{41} = \\frac{f}{2}Nk (T_3-T_2)\n",
    "$$\n",
    "\n",
    "For red path\n",
    "$$\n",
    "  Q_c = NkT_2 \\ln{\\frac{V_1}{V_2}} + \\frac{f}{2} Nk (T_3-T_2)  \n",
    "$$\n",
    "The only difference between $Q_h$ and $Q_c$ is in the first term where we have $T_2$ instead."
   ]
  },
  {
   "attachments": {},
   "cell_type": "markdown",
   "id": "f565cee0",
   "metadata": {},
   "source": [
    "The efficiency is \n",
    "$$\n",
    "    e = 1 - \\frac{C_c}{Q_h}\n",
    "$$\n",
    "From previous results, we substitute\n",
    "$$\n",
    "    e_{stirling} = 1 - \\frac{T_c \\ln{\\frac{V_1}{V_2}} + \\frac{f}{2} Nk (T_3-T_2)  }\n",
    "    {T_h \\ln{\\frac{V_1}{V_2}} + \\frac{f}{2} Nk (T_3-T_2)  }\n",
    "$$\n",
    "where $T_3 = T_h$ and $T_2=T_c$"
   ]
  },
  {
   "attachments": {},
   "cell_type": "markdown",
   "id": "8c89e9d9",
   "metadata": {},
   "source": [
    "Now for the efficiency for Carnot\n",
    "$$\n",
    "e_{carnot} = 1 - \\frac{T_c}{T_h}\n",
    "$$\n",
    "Let $x = \\frac{T_h}{T_c}$,\n",
    "So we have\n",
    "\n",
    "$$\n",
    "    \\ln{\\frac{V_1}{V_2}} + \\frac{f}{2}(x-1)\n",
    "$$\n",
    "\n",
    "and \n",
    "$$\n",
    "  \\ln{\\frac{V_1}{V_2}} +  \\frac{f}{2}(1- \\frac{1}{x})\n",
    "$$\n",
    "becomes\n",
    "$$\n",
    "  \\ln{\\frac{V_1}{V_2}} +  \\frac{f}{2}(1- \\frac{x-1}{x})\n",
    "$$"
   ]
  },
  {
   "attachments": {},
   "cell_type": "markdown",
   "id": "bd2c3de7",
   "metadata": {},
   "source": [
    "but $\\frac{x-1}{x} < x$\n",
    "\n",
    "$$\n",
    "    1 < \\frac{\\ln{\\frac{V_1}{V_2}} + \\frac{f}{2}(x-1)}\n",
    "        {\\ln{\\frac{V_1}{V_2}} + \\frac{f}{2}(1- \\frac{1}{x})}\n",
    "$$\n",
    "then\n",
    "\n",
    "$$\n",
    "    \\frac{T_c}{T_h} < \\frac{T_c}{T_h} \\frac{\\ln{\\frac{V_1}{V_2}} + \\frac{f}{2}(\\frac{T_h}{T_c}-1)}\n",
    "        {\\ln{\\frac{V_1}{V_2}} + \\frac{f}{2}(1- \\frac{T_c}{T_h})}\n",
    "$$\n",
    "\n",
    "subtracting it from 1\n",
    "\n",
    "$$\n",
    "    1- \\frac{T_c}{T_h} > 1- \\frac{T_c}{T_h} \\frac{\\ln{\\frac{V_1}{V_2}} + \\frac{f}{2}(\\frac{T_h}{T_c}-1)}\n",
    "        {\\ln{\\frac{V_1}{V_2}} + \\frac{f}{2}(1- \\frac{T_c}{T_h})}\n",
    "$$\n",
    "we conclude that \n",
    "$$\n",
    "    e_{carnot} > e_{stirling}\n",
    "$$\n"
   ]
  },
  {
   "attachments": {},
   "cell_type": "markdown",
   "id": "5ef523c3",
   "metadata": {},
   "source": [
    "### (c)\n",
    "Assuming the regenerator is in place and functioning flawlessly, all the heat absorbed from the blue edge is derived from it, and all the heat expelled from the green edge is taken in by it. This is theoretically feasible because the amount of heat absorbed from the yellow edge is equivalent to the heat expelled from the green edge, thereby preserving energy within the regenerator. Consequently, if this scenario occurs:"
   ]
  },
  {
   "attachments": {},
   "cell_type": "markdown",
   "id": "80476210",
   "metadata": {},
   "source": [
    "$$\n",
    "Q_h = NkT_3 \\ln{\\frac{V_1}{V_2}}\n",
    "$$\n",
    "\n",
    "$$\n",
    "Q_c = NkT_2 \\ln{\\frac{V_1}{V_2}}\n",
    "$$\n",
    "\n",
    "The efficiency is\n",
    "$$\n",
    "    e = 1 - \\frac{Q_c}{Q_h} = \\frac{T_2 \\ln{\\frac{V_1}{V_2}}}{T_3 \\ln{\\frac{V_1}{V_2}}}\n",
    "$$\n",
    "then\n",
    "$$\n",
    "    e = 1 - \\frac{T_c}{T_h}\n",
    "$$\n",
    "Which is the maximum (as in Carnot cycle)."
   ]
  },
  {
   "cell_type": "markdown",
   "id": "31a68a08",
   "metadata": {},
   "source": [
    "## Question 2"
   ]
  },
  {
   "attachments": {},
   "cell_type": "markdown",
   "id": "56d5003f",
   "metadata": {},
   "source": [
    "Using equation\n",
    "$$\n",
    "    e \\approx 1- \\frac{H_4 - H_1}{H_3 - H_2}\n",
    "$$\n",
    "for engine operating with a $P_{max} = 100$ bars with $T_{max} = 400^\\circ$ C and $T_{min} = 30^\\circ$ C.\n",
    "\n",
    "From Table 4.1 I get $H_1 = 126$ kJ. And from Table 4.2 I get $H_3 = 3097$ kJ.\n",
    "Since the process from 3 to 4 is taking place adiabatically, $Q=0$, then we have $S_3 = S_4$"
   ]
  },
  {
   "cell_type": "markdown",
   "id": "49bb2352",
   "metadata": {},
   "source": [
    "we use the following equation to find the ration of water and steam'"
   ]
  },
  {
   "cell_type": "code",
   "execution_count": 64,
   "id": "8e35978f",
   "metadata": {},
   "outputs": [
    {
     "data": {
      "text/latex": [
       "$\\displaystyle S_{4} = S_{s} r + S_{w} \\left(1 - r\\right)$"
      ],
      "text/plain": [
       "Eq(S_4, S_s*r + S_w*(1 - r))"
      ]
     },
     "execution_count": 64,
     "metadata": {},
     "output_type": "execute_result"
    }
   ],
   "source": [
    "r, s4, ss, sw = sp.symbols('r S_4 S_s S_w')\n",
    "eq = sp.Eq(s4, r* ss + (1-r)*sw)\n",
    "eq"
   ]
  },
  {
   "attachments": {},
   "cell_type": "markdown",
   "id": "2486e415",
   "metadata": {},
   "source": [
    "From the tables 4.1 and 4.2"
   ]
  },
  {
   "cell_type": "code",
   "execution_count": 65,
   "id": "d47f69f7",
   "metadata": {},
   "outputs": [
    {
     "data": {
      "text/latex": [
       "$\\displaystyle S_{4} = 6.212$"
      ],
      "text/plain": [
       "Eq(S_4, 6.212)"
      ]
     },
     "execution_count": 65,
     "metadata": {},
     "output_type": "execute_result"
    }
   ],
   "source": [
    "s4_ = sp.Eq(s4, 6.212)\n",
    "s4_"
   ]
  },
  {
   "cell_type": "code",
   "execution_count": 66,
   "id": "262d7e3e",
   "metadata": {},
   "outputs": [
    {
     "data": {
      "text/latex": [
       "$\\displaystyle S_{s} = 8.453$"
      ],
      "text/plain": [
       "Eq(S_s, 8.453)"
      ]
     },
     "execution_count": 66,
     "metadata": {},
     "output_type": "execute_result"
    }
   ],
   "source": [
    "ss_ = sp.Eq(ss, 8.453)\n",
    "ss_"
   ]
  },
  {
   "cell_type": "code",
   "execution_count": 67,
   "id": "33c55a59",
   "metadata": {},
   "outputs": [
    {
     "data": {
      "text/latex": [
       "$\\displaystyle S_{w} = 0.437$"
      ],
      "text/plain": [
       "Eq(S_w, 0.437)"
      ]
     },
     "execution_count": 67,
     "metadata": {},
     "output_type": "execute_result"
    }
   ],
   "source": [
    "sw_ = sp.Eq(sw, 0.437)\n",
    "sw_"
   ]
  },
  {
   "cell_type": "markdown",
   "id": "bf3ff96c",
   "metadata": {},
   "source": [
    "Then the ration is "
   ]
  },
  {
   "cell_type": "code",
   "execution_count": 70,
   "id": "3ee26b8f",
   "metadata": {},
   "outputs": [
    {
     "data": {
      "text/latex": [
       "$\\displaystyle 0.720434131736527$"
      ],
      "text/plain": [
       "0.720434131736527"
      ]
     },
     "execution_count": 70,
     "metadata": {},
     "output_type": "execute_result"
    }
   ],
   "source": [
    "eq_sub = eq.subs([s4_.args, sw_.args, ss_.args])\n",
    "r_val, = sp.solve(eq_sub, r)\n",
    "r_val"
   ]
  },
  {
   "attachments": {},
   "cell_type": "markdown",
   "id": "8f6e74d9",
   "metadata": {},
   "source": [
    "We use the same equation but for the enthalpy, knowing the ration $r$"
   ]
  },
  {
   "cell_type": "code",
   "execution_count": 95,
   "id": "dc6bb932",
   "metadata": {},
   "outputs": [
    {
     "data": {
      "text/latex": [
       "$\\displaystyle H_{4} = H_{s} r + H_{w} \\left(1 - r\\right)$"
      ],
      "text/plain": [
       "Eq(H_4, H_s*r + H_w*(1 - r))"
      ]
     },
     "execution_count": 95,
     "metadata": {},
     "output_type": "execute_result"
    }
   ],
   "source": [
    "e, r, h4, hs, hw = sp.symbols('e r H_4 H_s H_w')\n",
    "eq = sp.Eq(h4, r* hs + (1-r)*hw)\n",
    "eq"
   ]
  },
  {
   "attachments": {},
   "cell_type": "markdown",
   "id": "d047983e",
   "metadata": {},
   "source": [
    "Then the entropy at point 4 is"
   ]
  },
  {
   "cell_type": "code",
   "execution_count": 97,
   "id": "67051fa8",
   "metadata": {},
   "outputs": [
    {
     "data": {
      "text/latex": [
       "$\\displaystyle H_{4} = 1876.65494011976$"
      ],
      "text/plain": [
       "Eq(H_4, 1876.65494011976)"
      ]
     },
     "execution_count": 97,
     "metadata": {},
     "output_type": "execute_result"
    }
   ],
   "source": [
    "h4 = eq.subs({hs: 2556, hw:126, r:r_val})\n",
    "h4"
   ]
  },
  {
   "attachments": {},
   "cell_type": "markdown",
   "id": "7958490e",
   "metadata": {},
   "source": [
    "The efficiency is given by"
   ]
  },
  {
   "cell_type": "code",
   "execution_count": 98,
   "id": "4306ec5d",
   "metadata": {},
   "outputs": [
    {
     "data": {
      "text/latex": [
       "$\\displaystyle e = \\frac{3097}{2971} - \\frac{H_{4}}{2971} = 0.410752292117213$"
      ],
      "text/plain": [
       "Eq(e, Eq(3097/2971 - H_4/2971, 0.410752292117213))"
      ]
     },
     "execution_count": 98,
     "metadata": {},
     "output_type": "execute_result"
    }
   ],
   "source": [
    "sp.Eq(e, sp.Eq(1 - (h4.args[0] - 126) / (3097 - 126), 1 - (h4.args[1] - 126) / (3097 - 126)))"
   ]
  },
  {
   "attachments": {},
   "cell_type": "markdown",
   "id": "c58475b3",
   "metadata": {},
   "source": [
    "## Question 4"
   ]
  },
  {
   "attachments": {},
   "cell_type": "markdown",
   "id": "2122e21f",
   "metadata": {},
   "source": [
    "In the event that the entropy rises within the turbine, instead of staying the same, the mixture that exits the turbine will contain a higher proportion of steam and a lower proportion of water. This is due to the fact that steam has a greater level of entropy than water at a given final pressure. As a result, the enthalpy at point 4 will be higher than our previous assumptions. Additionally, since $H_4$ is represented with a negative sign in the equation\n",
    "\n",
    "$$\n",
    "    e = 1- \\frac{H_4 - H_1}{H_3 - H_2}\n",
    "$$\n",
    "the efficiency will be less. Of course,, we could have predicted this on general:\n",
    "producing more entropy during the cycle means we must expel more waste heat to get rid of the entropy,\n",
    "so there is less energy left to produce."
   ]
  },
  {
   "attachments": {},
   "cell_type": "markdown",
   "id": "9349ae7f",
   "metadata": {},
   "source": [
    "## Question 5\n",
    "This refrigerator will work in temperature range $10^\\circ$ C to $60^\\circ$ C.\n"
   ]
  },
  {
   "attachments": {},
   "cell_type": "markdown",
   "id": "00e93c53",
   "metadata": {},
   "source": [
    "| Point | Temperature (°C) | Pressure (MPa) | Density (kg/m³) | Enthalpy (kJ/kg) | Entropy (kJ/kg K) |\n",
    "|-------|-----------------|----------------|-----------------|------------------|--------------------|\n",
    "| 1     | 60              | 0.5            | 7.98            | 267.5            | 0.936              |\n",
    "| 2     | 60              | 1.5            | 25.4            | 287.5            | 1.039              |\n",
    "| 3     | 10              | 1.5            | 5.08            | 222.5            | 0.748              |\n",
    "| 4     | 10              | 0.5            | 1.61            | 202.5            | 0.639              |\n",
    "\n",
    "COP = (enthalpy at point 1 - enthalpy at point 4) / (enthalpy at point 2 - enthalpy at point 1) = (267.5 - 202.5) / (287.5 - 267.5) = 3.33\n",
    "\n",
    "The percentage of liquid at point 4 can be found using the quality equation:\n",
    "\n",
    "$$\n",
    "x = (h_4 - h_f) / (h_g - h_f) = (202.5 - 70.9) / (239.3 - 70.9) = 0.55 or 55% liquid\n",
    "$$"
   ]
  }
 ],
 "metadata": {
  "kernelspec": {
   "display_name": "Python 3 (ipykernel)",
   "language": "python",
   "name": "python3"
  },
  "language_info": {
   "codemirror_mode": {
    "name": "ipython",
    "version": 3
   },
   "file_extension": ".py",
   "mimetype": "text/x-python",
   "name": "python",
   "nbconvert_exporter": "python",
   "pygments_lexer": "ipython3",
   "version": "3.11.1"
  }
 },
 "nbformat": 4,
 "nbformat_minor": 5
}
